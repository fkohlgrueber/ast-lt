{
 "cells": [
  {
   "cell_type": "code",
   "execution_count": 2,
   "metadata": {},
   "outputs": [],
   "source": [
    "import ast         # python stdlib\n",
    "import dis         # python stdlib\n",
    "import astunparse  # available on pypi"
   ]
  },
  {
   "cell_type": "markdown",
   "metadata": {},
   "source": [
    "# Creating an AST"
   ]
  },
  {
   "cell_type": "code",
   "execution_count": 3,
   "metadata": {},
   "outputs": [],
   "source": [
    "code = \"\"\"\n",
    "print(\"hello\")\n",
    "\"\"\"\n",
    "ast_node = ast.parse(code)"
   ]
  },
  {
   "cell_type": "markdown",
   "metadata": {},
   "source": [
    "## Pretty-Printing the AST"
   ]
  },
  {
   "cell_type": "code",
   "execution_count": 4,
   "metadata": {},
   "outputs": [
    {
     "name": "stdout",
     "output_type": "stream",
     "text": [
      "Module(body=[Expr(value=Call(\n",
      "  func=Name(\n",
      "    id='print',\n",
      "    ctx=Load()),\n",
      "  args=[Str(s='hello')],\n",
      "  keywords=[]))])\n"
     ]
    }
   ],
   "source": [
    "print(astunparse.dump(ast_node))"
   ]
  },
  {
   "cell_type": "markdown",
   "metadata": {},
   "source": [
    "## Compiling to bytecode"
   ]
  },
  {
   "cell_type": "code",
   "execution_count": 5,
   "metadata": {},
   "outputs": [
    {
     "name": "stdout",
     "output_type": "stream",
     "text": [
      "  2           0 LOAD_NAME                0 (print)\n",
      "              2 LOAD_CONST               0 ('hello')\n",
      "              4 CALL_FUNCTION            1\n",
      "              6 POP_TOP\n",
      "              8 LOAD_CONST               1 (None)\n",
      "             10 RETURN_VALUE\n"
     ]
    }
   ],
   "source": [
    "bytecode = compile(ast_node, '<string>', 'exec')\n",
    "dis.dis(bytecode)"
   ]
  },
  {
   "cell_type": "markdown",
   "metadata": {},
   "source": [
    "### Execute"
   ]
  },
  {
   "cell_type": "code",
   "execution_count": 6,
   "metadata": {},
   "outputs": [
    {
     "name": "stdout",
     "output_type": "stream",
     "text": [
      "hello\n"
     ]
    }
   ],
   "source": [
    "exec(bytecode)"
   ]
  },
  {
   "cell_type": "markdown",
   "metadata": {},
   "source": [
    "# AST Examples"
   ]
  },
  {
   "cell_type": "code",
   "execution_count": 7,
   "metadata": {},
   "outputs": [],
   "source": [
    "def view_ast(code):\n",
    "    print(astunparse.dump(ast.parse(code)))"
   ]
  },
  {
   "cell_type": "markdown",
   "metadata": {},
   "source": [
    "## Module\n",
    "\n",
    "    Module(stmt* body)"
   ]
  },
  {
   "cell_type": "code",
   "execution_count": 8,
   "metadata": {},
   "outputs": [
    {
     "name": "stdout",
     "output_type": "stream",
     "text": [
      "Module(body=[])\n"
     ]
    }
   ],
   "source": [
    "view_ast(\"\")"
   ]
  },
  {
   "cell_type": "code",
   "execution_count": 9,
   "metadata": {},
   "outputs": [
    {
     "name": "stdout",
     "output_type": "stream",
     "text": [
      "Module(body=[Expr(value=Num(n=1))])\n"
     ]
    }
   ],
   "source": [
    "view_ast(\"1\")"
   ]
  },
  {
   "cell_type": "code",
   "execution_count": 10,
   "metadata": {},
   "outputs": [
    {
     "name": "stdout",
     "output_type": "stream",
     "text": [
      "Module(body=[\n",
      "  Expr(value=Num(n=1)),\n",
      "  Expr(value=Num(n=2))])\n"
     ]
    }
   ],
   "source": [
    "view_ast(\"1;2\")"
   ]
  },
  {
   "cell_type": "code",
   "execution_count": 11,
   "metadata": {},
   "outputs": [
    {
     "name": "stdout",
     "output_type": "stream",
     "text": [
      "Module(body=[\n",
      "  Expr(value=Num(n=1)),\n",
      "  Expr(value=Num(n=2))])\n"
     ]
    }
   ],
   "source": [
    "view_ast(\"\"\"\n",
    "1\n",
    "2\n",
    "\"\"\")"
   ]
  },
  {
   "cell_type": "markdown",
   "metadata": {},
   "source": [
    "## Binop\n",
    "\n",
    "    BinOp(expr left, operator op, expr right)\n",
    "    \n",
    "    operator = Add | Sub | Mult | MatMult | Div | Mod | Pow | LShift\n",
    "             | RShift | BitOr | BitXor | BitAnd | FloorDiv"
   ]
  },
  {
   "cell_type": "code",
   "execution_count": 12,
   "metadata": {},
   "outputs": [
    {
     "name": "stdout",
     "output_type": "stream",
     "text": [
      "Module(body=[Expr(value=BinOp(\n",
      "  left=Num(n=1),\n",
      "  op=Add(),\n",
      "  right=Num(n=2)))])\n"
     ]
    }
   ],
   "source": [
    "view_ast(\"1 + 2\")"
   ]
  },
  {
   "cell_type": "code",
   "execution_count": 13,
   "metadata": {},
   "outputs": [
    {
     "name": "stdout",
     "output_type": "stream",
     "text": [
      "Module(body=[Expr(value=BinOp(\n",
      "  left=BinOp(\n",
      "    left=Num(n=1),\n",
      "    op=Add(),\n",
      "    right=Num(n=2)),\n",
      "  op=Sub(),\n",
      "  right=Num(n=3)))])\n"
     ]
    }
   ],
   "source": [
    "view_ast(\"1 + 2 - 3\")"
   ]
  },
  {
   "cell_type": "code",
   "execution_count": 14,
   "metadata": {},
   "outputs": [
    {
     "name": "stdout",
     "output_type": "stream",
     "text": [
      "Module(body=[Expr(value=BinOp(\n",
      "  left=Num(n=1),\n",
      "  op=Add(),\n",
      "  right=BinOp(\n",
      "    left=Num(n=2),\n",
      "    op=Mult(),\n",
      "    right=Num(n=3))))])\n"
     ]
    }
   ],
   "source": [
    "view_ast(\"1 + 2 * 3\")"
   ]
  },
  {
   "cell_type": "markdown",
   "metadata": {},
   "source": [
    "## If\n",
    "\n",
    "    If(expr test, stmt* body, stmt* orelse)"
   ]
  },
  {
   "cell_type": "code",
   "execution_count": 15,
   "metadata": {},
   "outputs": [
    {
     "name": "stdout",
     "output_type": "stream",
     "text": [
      "Module(body=[If(\n",
      "  test=Num(n=1),\n",
      "  body=[Pass()],\n",
      "  orelse=[])])\n"
     ]
    }
   ],
   "source": [
    "view_ast(\"\"\"\n",
    "if 1:\n",
    "    pass\n",
    "\"\"\")"
   ]
  },
  {
   "cell_type": "code",
   "execution_count": 16,
   "metadata": {},
   "outputs": [
    {
     "name": "stdout",
     "output_type": "stream",
     "text": [
      "Module(body=[If(\n",
      "  test=Num(n=1),\n",
      "  body=[Pass()],\n",
      "  orelse=[Expr(value=Num(n=2))])])\n"
     ]
    }
   ],
   "source": [
    "view_ast(\"\"\"\n",
    "if 1:\n",
    "    pass\n",
    "else:\n",
    "    2\n",
    "\"\"\")"
   ]
  },
  {
   "cell_type": "code",
   "execution_count": 17,
   "metadata": {},
   "outputs": [
    {
     "name": "stdout",
     "output_type": "stream",
     "text": [
      "Module(body=[If(\n",
      "  test=Num(n=1),\n",
      "  body=[Expr(value=Num(n=2))],\n",
      "  orelse=[If(\n",
      "    test=Num(n=3),\n",
      "    body=[Expr(value=Num(n=4))],\n",
      "    orelse=[Expr(value=Num(n=5))])])])\n"
     ]
    }
   ],
   "source": [
    "view_ast(\"\"\"\n",
    "if 1:\n",
    "    2\n",
    "elif 3:\n",
    "    4\n",
    "else:\n",
    "    5\n",
    "\"\"\")\n"
   ]
  },
  {
   "cell_type": "markdown",
   "metadata": {},
   "source": [
    "## Assign\n",
    "\n",
    "    Assign(expr* targets, expr value)"
   ]
  },
  {
   "cell_type": "code",
   "execution_count": 18,
   "metadata": {},
   "outputs": [
    {
     "name": "stdout",
     "output_type": "stream",
     "text": [
      "Module(body=[Assign(\n",
      "  targets=[Name(\n",
      "    id='a',\n",
      "    ctx=Store())],\n",
      "  value=Num(n=1))])\n"
     ]
    }
   ],
   "source": [
    "view_ast(\"\"\"\n",
    "a = 1\n",
    "\"\"\")"
   ]
  },
  {
   "cell_type": "code",
   "execution_count": 19,
   "metadata": {},
   "outputs": [
    {
     "name": "stdout",
     "output_type": "stream",
     "text": [
      "Module(body=[Assign(\n",
      "  targets=[\n",
      "    Name(\n",
      "      id='a',\n",
      "      ctx=Store()),\n",
      "    Name(\n",
      "      id='b',\n",
      "      ctx=Store()),\n",
      "    Name(\n",
      "      id='c',\n",
      "      ctx=Store())],\n",
      "  value=Num(n=1))])\n"
     ]
    }
   ],
   "source": [
    "view_ast(\"\"\"\n",
    "a = b = c = 1\n",
    "\"\"\")"
   ]
  }
 ],
 "metadata": {
  "kernelspec": {
   "display_name": "Python 3",
   "language": "python",
   "name": "python3"
  },
  "language_info": {
   "codemirror_mode": {
    "name": "ipython",
    "version": 3
   },
   "file_extension": ".py",
   "mimetype": "text/x-python",
   "name": "python",
   "nbconvert_exporter": "python",
   "pygments_lexer": "ipython3",
   "version": "3.7.1"
  }
 },
 "nbformat": 4,
 "nbformat_minor": 2
}
